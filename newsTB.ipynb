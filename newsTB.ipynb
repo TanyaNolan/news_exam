{
 "cells": [
  {
   "cell_type": "markdown",
   "metadata": {},
   "source": [
    "# Определение категории новостей\n",
    "Задача: с некоторых новостных сайтов были загружены тексты новостей за период несколько лет, причем каждая новость принаделжит к какой-то рубрике (science, style, culture, life, economics, business, travel, forces, media, sport). Нужно написать программу, которая автоматически определяет к какой рубрике можно отнести новость. \n",
    "\n",
    "В файле news_train.txt 60,000 строк, в каждой строке содержится метка рубрики, заголовок новостной статьи и сам текст статьи, например:\n",
    "\n",
    "sport 'tab' Сборная Канады по хоккею разгромила чехов 'tab' Сборная Канады по хоккею крупно об...\n",
    "\n",
    "где 'tab' символ табуляции. В файле news_test.txt 15,000 строк, на каждой строке заголовок и новость без метки. Задача -- предсказать категорию всех новостей из тестового файла.\n",
    "\n",
    "В качестве решения принимается файл из 15,000 строк, на каждой строке которого стоит метка, соответствующая одной из 10 категорий, пример такого файла в news_output_example.txt . Все файлы имеют кодировку utf-8."
   ]
  },
  {
   "cell_type": "code",
   "execution_count": 1,
   "metadata": {},
   "outputs": [],
   "source": [
    "import numpy as np\n",
    "import pandas as pd\n",
    "import re\n",
    "categories=np.array([u'science', u'style', u'culture', u'life', u'economics', u'business', u'travel', u'forces', u'media', \n",
    "                     u'sport'])"
   ]
  },
  {
   "cell_type": "code",
   "execution_count": 2,
   "metadata": {},
   "outputs": [],
   "source": [
    "def razbor_na_slova(f): #функция разбора предложений на слова\n",
    "    f=f.lower()\n",
    "    result_with_empty_words=re.split(u'[^а-я]', f)\n",
    "    result=[]\n",
    "    for i in result_with_empty_words:\n",
    "        if i!=u'':\n",
    "            result.append(i)\n",
    "    return result"
   ]
  },
  {
   "cell_type": "code",
   "execution_count": 3,
   "metadata": {},
   "outputs": [],
   "source": [
    "import codecs\n",
    "file_sentences=codecs.open('news_train.txt', 'r', \"utf-8\") #считывание данных\n",
    "strings = [] \n",
    "for line in file_sentences: \n",
    "    strings.append(line.strip().lower())"
   ]
  },
  {
   "cell_type": "code",
   "execution_count": 4,
   "metadata": {},
   "outputs": [],
   "source": [
    "result=[]\n",
    "y=[]\n",
    "X_labels=[]\n",
    "X_text=[]\n",
    "\n",
    "for i in range(60000): #разбор считанных данных\n",
    "    result = re.split('\\t', strings[i] )\n",
    "    y=np.append(y,np.where(categories==result[0])) #категория\n",
    "    X_labels.append(razbor_na_slova(result[1])) #заголовки\n",
    "    X_text.append(razbor_na_slova(result[2])) #текст\n",
    "y=y.astype(int)"
   ]
  },
  {
   "cell_type": "code",
   "execution_count": 5,
   "metadata": {},
   "outputs": [],
   "source": [
    "dict_all_words=dict()\n",
    "# создание словаря \n",
    "for i in range(60000): \n",
    "    for j in X_labels[i]:\n",
    "        if len(j)>2:\n",
    "            if j not in dict_all_words:\n",
    "                vect=[0,0,0,0,0,0,0,0,0,0]\n",
    "            else:\n",
    "                vect = dict_all_words.get(j)\n",
    "            if y[i]==1 or y[i]==6: #нормирование\n",
    "                slovo=8\n",
    "            elif y[i]==5:\n",
    "                slovo=4\n",
    "            elif y[i]==7:\n",
    "                slovo=2\n",
    "            else:\n",
    "                slovo=1                     \n",
    "            vect[y[i]]+=slovo\n",
    "            dict_all_words[j] = vect\n",
    "    for j in X_text[i]:\n",
    "        if len(j)>2:\n",
    "            if j not in dict_all_words:\n",
    "                vect=[0,0,0,0,0,0,0,0,0,0]\n",
    "            else:\n",
    "                vect = dict_all_words.get(j)\n",
    "            if y[i]==1 or y[i]==6: #нормирование\n",
    "                slovo=8\n",
    "            elif y[i]==5:\n",
    "                slovo=4\n",
    "            elif y[i]==7:\n",
    "                slovo=2\n",
    "            else:\n",
    "                slovo=1                    \n",
    "            vect[y[i]]+=slovo\n",
    "            dict_all_words[j] = vect"
   ]
  },
  {
   "cell_type": "code",
   "execution_count": 6,
   "metadata": {},
   "outputs": [],
   "source": [
    "# подсчёт вероятностей\n",
    "for i in dict_all_words:\n",
    "    vect=list(dict_all_words.get(i))\n",
    "    summa=sum(vect)\n",
    "    for k in range(10):\n",
    "        vect[k]/=float(summa)\n",
    "    dict_all_words[i]=vect"
   ]
  },
  {
   "cell_type": "code",
   "execution_count": 7,
   "metadata": {},
   "outputs": [],
   "source": [
    "#тестовый файл\n",
    "file_sentences=codecs.open('news_test.txt', 'r', \"utf-8\")\n",
    "strings_test = [] \n",
    "for line in file_sentences: \n",
    "    strings_test.append(line.strip().lower())\n",
    "result=[]\n",
    "X_labels_test=[]\n",
    "X_text_test=[]\n",
    "\n",
    "for i in range(15000):\n",
    "    result = re.split('\\t', strings_test[i] ) \n",
    "    X_labels_test.append(razbor_na_slova(result[0]))\n",
    "    X_text_test.append(razbor_na_slova(result[1]))\n"
   ]
  },
  {
   "cell_type": "code",
   "execution_count": 8,
   "metadata": {},
   "outputs": [],
   "source": [
    "#определение тем для теста\n",
    "testing_dict=dict()\n",
    "for i in range(15000):\n",
    "    vect=[0,0,0,0,0,0,0,0,0,0]\n",
    "    for j in X_labels_test[i]:\n",
    "        if j in dict_all_words:\n",
    "            for k in range(10):\n",
    "                vect[k]+=dict_all_words.get(j)[k]\n",
    "    for j in X_text_test[i]:\n",
    "        if j in dict_all_words:\n",
    "             for k in range(10):\n",
    "                vect[k]+=dict_all_words.get(j)[k]\n",
    "    testing_dict[i] = vect\n",
    "    \n",
    "y_test=[]\n",
    "k=0\n",
    "for i in testing_dict:\n",
    "    y_test.append(testing_dict.get(i).index(max(testing_dict.get(i))))\n",
    "    if testing_dict.get(i).index(max(testing_dict.get(i)))==0:\n",
    "        k+=1"
   ]
  },
  {
   "cell_type": "code",
   "execution_count": 9,
   "metadata": {},
   "outputs": [],
   "source": [
    "#запись в файл\n",
    "answer=codecs.open('news_output.txt', 'w', \"utf-8\")\n",
    "for i in range(15000):\n",
    "    answer.write(categories[y_test[i]]+'\\n')\n",
    "answer.close()"
   ]
  }
 ],
 "metadata": {
  "kernelspec": {
   "display_name": "Python 2",
   "language": "python",
   "name": "python2"
  },
  "language_info": {
   "codemirror_mode": {
    "name": "ipython",
    "version": 2
   },
   "file_extension": ".py",
   "mimetype": "text/x-python",
   "name": "python",
   "nbconvert_exporter": "python",
   "pygments_lexer": "ipython2",
   "version": "2.7.15"
  }
 },
 "nbformat": 4,
 "nbformat_minor": 2
}
